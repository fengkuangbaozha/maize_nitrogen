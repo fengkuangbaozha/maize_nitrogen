{
 "metadata": {
  "name": "",
  "signature": "sha256:9a12171326ef85da34fa8dd0b53c0cf1a30882e0cb139967198c59c919eb458a"
 },
 "nbformat": 3,
 "nbformat_minor": 0,
 "worksheets": [
  {
   "cells": [
    {
     "cell_type": "heading",
     "level": 1,
     "metadata": {},
     "source": [
      "RNA-seq analysis reveals nitrogen-starvation affect maize ear kernel development"
     ]
    },
    {
     "cell_type": "heading",
     "level": 4,
     "metadata": {},
     "source": [
      "Abstract: Maize ear development is important for maize growth. It was found that the development can be affected by nitrogen-starvation in the field. To study its molecular mechanism, we analyzed RNA-seq data of maize ear in normal and low nitrogen condition in different developmental stages (ear1 and ear2). Through differential expression (DE) analysis with edgeR, over 5,000 genes are found to be differentially expressed under nitrogen treatments in ear2 stage and over 8,000 genes are found to be differentially expressed (DE) between ear1 and ear2 stage under low nitrogen treatment. We annotated these DE genes with TopGO and Mapman and found that these genes are enriched in plant growth and development pathways. Moreover, DE genes specific for one condition is extracted and their involved pathways are explored. Nitrogen cis-acting elements containing genes are also analyzed for functional annotation. Using lncRNA identification pipeline, we identified 7,152 lncRNAs in maize samples. Through lncRNA DE analysis with Cuffdiff, over 500 and 400 lncRNAs are found to be differentially expressed under nitrogen treatments and different developmental stages respectively. This study showed that low nitrogen in maize affects the expression level of genes and lncRNAs related to cell development pathways."
     ]
    },
    {
     "cell_type": "heading",
     "level": 4,
     "metadata": {},
     "source": [
      "Pipeline: Fisrtly, we carried out RNA-seq gene differential expression analysis on maize ear datasets under both different developmental stages and nitrogen conditions and we also annotate their involved pathways. Secondly, we identified lncRNAs in maize ear and characterized lncRNAs under both different developmental stages and nitrogen conditions."
     ]
    },
    {
     "cell_type": "heading",
     "level": 2,
     "metadata": {},
     "source": [
      "Part one. We identified differentially expressed genes under different nitrogen conditions and different developmental stages."
     ]
    },
    {
     "cell_type": "heading",
     "level": 3,
     "metadata": {},
     "source": [
      "Firstly, we cleaned the reads with SolexaQA and Cutadapter, mapped reads to the maize genome (AGPv3.28) with tophat, calculated reads counts with htseq-count."
     ]
    },
    {
     "cell_type": "code",
     "collapsed": false,
     "input": [
      "#!qsub -t 1-3 /psc/bioinformatics/sunyd/lixuexian/script/assemble_pair.sh /psc/bioinformatics/sunyd/genome/zea_mays/zma_AGPv3.28.gtf /psc/bioinformatics/sunyd/genome/zea_mays/zma_AGPv3.28 /psc/bioinformatics/sunyd/lixuexian/data/ 1_CK_"
     ],
     "language": "python",
     "metadata": {},
     "outputs": [],
     "prompt_number": 17
    },
    {
     "cell_type": "code",
     "collapsed": false,
     "input": [
      "#!qsub -t 1-3 /psc/bioinformatics/sunyd/lixuexian/script/assemble_pair.sh /psc/bioinformatics/sunyd/genome/zea_mays/zma_AGPv3.28.gtf /psc/bioinformatics/sunyd/genome/zea_mays/zma_AGPv3.28 /psc/bioinformatics/sunyd/lixuexian/data/ 2_CK_"
     ],
     "language": "python",
     "metadata": {},
     "outputs": [],
     "prompt_number": 18
    },
    {
     "cell_type": "code",
     "collapsed": false,
     "input": [
      "#!qsub -t 1-3 /psc/bioinformatics/sunyd/lixuexian/script/assemble_pair.sh /psc/bioinformatics/sunyd/genome/zea_mays/zma_AGPv3.28.gtf /psc/bioinformatics/sunyd/genome/zea_mays/zma_AGPv3.28 /psc/bioinformatics/sunyd/lixuexian/data/ 1_LN_"
     ],
     "language": "python",
     "metadata": {},
     "outputs": [],
     "prompt_number": 19
    },
    {
     "cell_type": "code",
     "collapsed": false,
     "input": [
      "#!qsub -t 1-3 /psc/bioinformatics/sunyd/lixuexian/script/assemble_pair.sh /psc/bioinformatics/sunyd/genome/zea_mays/zma_AGPv3.28.gtf /psc/bioinformatics/sunyd/genome/zea_mays/zma_AGPv3.28 /psc/bioinformatics/sunyd/lixuexian/data/ 2_LN_"
     ],
     "language": "python",
     "metadata": {},
     "outputs": [],
     "prompt_number": 20
    },
    {
     "cell_type": "heading",
     "level": 6,
     "metadata": {},
     "source": [
      "Reads statistics."
     ]
    },
    {
     "cell_type": "code",
     "collapsed": false,
     "input": [
      "#!bash ~/sunyd/lixuexian/script/reads_statistics.sh"
     ],
     "language": "python",
     "metadata": {},
     "outputs": [],
     "prompt_number": 2
    },
    {
     "cell_type": "heading",
     "level": 3,
     "metadata": {},
     "source": [
      "Secondly, we test replicates quality with PCA and Pairwise analysis."
     ]
    },
    {
     "cell_type": "code",
     "collapsed": false,
     "input": [
      "#!cd /psc/bioinformatics/sunyd/lixuexian/process"
     ],
     "language": "python",
     "metadata": {},
     "outputs": [],
     "prompt_number": 14
    },
    {
     "cell_type": "code",
     "collapsed": false,
     "input": [
      "#!Rscript /psc/bioinformatics/sunyd/lixuexian/script/pca_pairwise_3rep.R"
     ],
     "language": "python",
     "metadata": {},
     "outputs": [],
     "prompt_number": 15
    },
    {
     "cell_type": "heading",
     "level": 3,
     "metadata": {},
     "source": [
      "Thirdly, we performed differential expression (DE) analysis with edgeR."
     ]
    },
    {
     "cell_type": "heading",
     "level": 4,
     "metadata": {},
     "source": [
      "Between developmental stages (Ear1,Ear2) and between nitrogen conditions (CK,LN): Ear1CK:Ear1LN,Ear1CK:Ear2CK,Ear2CK:Ear2LN,Ear1LN:Ear2LN"
     ]
    },
    {
     "cell_type": "code",
     "collapsed": false,
     "input": [
      "#!bash ~/sunyd/lixuexian/script/replicate_all_htseq.sh"
     ],
     "language": "python",
     "metadata": {},
     "outputs": [],
     "prompt_number": 3
    },
    {
     "cell_type": "heading",
     "level": 3,
     "metadata": {},
     "source": [
      "Forthly, we performed GO annotation analysis with topgo package to identify function of DE genes."
     ]
    },
    {
     "cell_type": "code",
     "collapsed": false,
     "input": [
      "#!bash /psc/bioinformatics/sunyd/lixuexian/script/topgo.sh /psc/bioinformatics/sunyd/lixuexian/process"
     ],
     "language": "python",
     "metadata": {},
     "outputs": [],
     "prompt_number": 3
    },
    {
     "cell_type": "heading",
     "level": 3,
     "metadata": {},
     "source": [
      "Fifthly, we identified DE genes involved pathways with Mapman."
     ]
    },
    {
     "cell_type": "code",
     "collapsed": false,
     "input": [
      "#!for i in *.fdr5.txt; do j=`echo $i |sed 's/fdr5/fdr5.mapman/g'`; cut -f1,2 $i |sed '1d' > $j; done    ####only keep name and fold change\n",
      "###extract metabolism overview, cell response, regulation pathway"
     ],
     "language": "python",
     "metadata": {},
     "outputs": [],
     "prompt_number": 4
    },
    {
     "cell_type": "heading",
     "level": 4,
     "metadata": {},
     "source": [
      "Functioanl catergory enrichment"
     ]
    },
    {
     "cell_type": "code",
     "collapsed": false,
     "input": [
      "#!bash /psc/bioinformatics/sunyd/lixuexian/script/category.sh /psc/bioinformatics/sunyd/lixuexian/process/topgo"
     ],
     "language": "python",
     "metadata": {},
     "outputs": [],
     "prompt_number": 5
    },
    {
     "cell_type": "code",
     "collapsed": false,
     "input": [
      "#!bash /psc/bioinformatics/sunyd/lixuexian/script/category_detail.sh /psc/bioinformatics/sunyd/lixuexian/process/topgo"
     ],
     "language": "python",
     "metadata": {},
     "outputs": [],
     "prompt_number": 6
    },
    {
     "cell_type": "heading",
     "level": 3,
     "metadata": {},
     "source": [
      "Sixthly, we extracted DE genes specific in one condition and annotate their pathways."
     ]
    },
    {
     "cell_type": "code",
     "collapsed": false,
     "input": [
      "#!bash /psc/bioinformatics/sunyd/lixuexian/script/specific.sh /psc/bioinformatics/sunyd/lixuexian/process"
     ],
     "language": "python",
     "metadata": {},
     "outputs": [],
     "prompt_number": 8
    },
    {
     "cell_type": "code",
     "collapsed": false,
     "input": [
      "#!bash /psc/bioinformatics/sunyd/lixuexian/script/category.sh /psc/bioinformatics/sunyd/lixuexian/process/specific"
     ],
     "language": "python",
     "metadata": {},
     "outputs": [],
     "prompt_number": 9
    },
    {
     "cell_type": "code",
     "collapsed": false,
     "input": [
      "#!bash /psc/bioinformatics/sunyd/lixuexian/script/category_detail_specific.sh /psc/bioinformatics/sunyd/lixuexian/process/specific"
     ],
     "language": "python",
     "metadata": {},
     "outputs": [],
     "prompt_number": 10
    },
    {
     "cell_type": "heading",
     "level": 3,
     "metadata": {},
     "source": [
      "Sevenly, we identified nitrogen cis-acting elements containing genes and annotate their pathways."
     ]
    },
    {
     "cell_type": "code",
     "collapsed": false,
     "input": [
      "#!fastaFromBed -s -name -fi /psc/bioinformatics/sunyd/genome/zea_mays/zma_AGPv3.28.fa -bed /psc/bioinformatics/sunyd/genome/zea_mays/Zea_mays.upstream.gene.bed -fo zma_AGPv3.28.mrna.upstream2k"
     ],
     "language": "python",
     "metadata": {},
     "outputs": [],
     "prompt_number": 23
    },
    {
     "cell_type": "code",
     "collapsed": false,
     "input": [
      "#!tr '\\n' '\\t' < /psc/bioinformatics/sunyd/genome/zea_mays/zma_AGPv3.28.mrna.upstream2k.fa |sed 's/\\t>/\\n/g' > /psc/bioinformatics/sunyd/genome/zea_mays/zma_AGPv3.28.mrna.upstream2k.tab"
     ],
     "language": "python",
     "metadata": {},
     "outputs": [],
     "prompt_number": 24
    },
    {
     "cell_type": "code",
     "collapsed": false,
     "input": [
      "#!bash /psc/bioinformatics/sunyd/lixuexian/script/nlps_detail.sh /psc/bioinformatics/sunyd/lixuexian/process"
     ],
     "language": "python",
     "metadata": {},
     "outputs": [],
     "prompt_number": 12
    },
    {
     "cell_type": "heading",
     "level": 2,
     "metadata": {},
     "source": [
      "Part two. We identified lncRNAs in maize and characterized lncRNAs under both different developmental stages and nitrogen treatments."
     ]
    },
    {
     "cell_type": "heading",
     "level": 3,
     "metadata": {},
     "source": [
      "Firstly, we identified lncRNAs in maize with the pipeline of TPLA."
     ]
    },
    {
     "cell_type": "code",
     "collapsed": false,
     "input": [
      "#!cd ~/sunyd/lixuexian/lncRNA"
     ],
     "language": "python",
     "metadata": {},
     "outputs": [],
     "prompt_number": 25
    },
    {
     "cell_type": "code",
     "collapsed": false,
     "input": [
      "#!ls /psc/bioinformatics/sunyd/lixuexian/data/*/*/accepted_hits.bam > cuffnorm_sample_sheet_3rep.txt"
     ],
     "language": "python",
     "metadata": {},
     "outputs": [],
     "prompt_number": 26
    },
    {
     "cell_type": "code",
     "collapsed": false,
     "input": [
      "#!ls /psc/bioinformatics/sunyd/lixuexian/data/*/*/transcripts.gtf > /psc/bioinformatics/sunyd/lixuexian/lncRNA/assemble_gtf_listall.txt"
     ],
     "language": "python",
     "metadata": {},
     "outputs": [],
     "prompt_number": 28
    },
    {
     "cell_type": "code",
     "collapsed": false,
     "input": [
      "#!bash ~/sunyd/identify/script/lncrna_prepare.sh /psc/bioinformatics/sunyd/lixuexian/lncRNA/assemble_gtf_listall.txt /psc/bioinformatics/sunyd/genome/zea_mays/zma_AGPv3.28.gtf /psc/bioinformatics/sunyd/genome/zea_mays/zma_AGPv3.28.fa ~/sunyd/lixuexian/lncRNA 12"
     ],
     "language": "python",
     "metadata": {},
     "outputs": [],
     "prompt_number": 29
    },
    {
     "cell_type": "code",
     "collapsed": false,
     "input": [
      "#!for i in /psc/bioinformatics/sunyd/lixuexian/lncRNA/cuff*.comscriptedhq.name.fa; do j=`echo $i |cut -d \"/\" -f1-7`; split -d -a 2 -l 2000 $i $j/split_cuff/cuff; cd $j/split_cuff; rename '0' '' cuff0*; done"
     ],
     "language": "python",
     "metadata": {},
     "outputs": [],
     "prompt_number": 30
    },
    {
     "cell_type": "code",
     "collapsed": false,
     "input": [
      "#!qsub -t 1-23 ~/sunyd/identify/lncrnaml_qsuball_newtrain.sh /psc/bioinformatics/sunyd/lixuexian/lncRNA"
     ],
     "language": "python",
     "metadata": {},
     "outputs": [],
     "prompt_number": 31
    },
    {
     "cell_type": "code",
     "collapsed": false,
     "input": [
      "#!bash ~/sunyd/identify/script/lncrna_handle_rfmodel.sh ~/sunyd/lixuexian/lncRNA cuff12 /psc/bioinformatics/sunyd/genome/zea_mays/zma_tRNA_GtRNAdb.bed"
     ],
     "language": "python",
     "metadata": {},
     "outputs": [],
     "prompt_number": 33
    },
    {
     "cell_type": "code",
     "collapsed": false,
     "input": [
      "#!bash /psc/bioinformatics/sunyd/identify/script/expression_gtf.sh cuff12 /psc/bioinformatics/sunyd/lixuexian/lncRNA /psc/bioinformatics/sunyd/genome/zea_mays/zma_AGPv3.28"
     ],
     "language": "python",
     "metadata": {},
     "outputs": [],
     "prompt_number": 34
    },
    {
     "cell_type": "heading",
     "level": 3,
     "metadata": {},
     "source": [
      "Secondly, we performed lncRNA differentially expression analysis with cuffdiff and cummerRbund."
     ]
    },
    {
     "cell_type": "code",
     "collapsed": false,
     "input": [
      "#!bash ~/sunyd/lixuexian/script/lncrna_cuffdiff.sh"
     ],
     "language": "python",
     "metadata": {},
     "outputs": [],
     "prompt_number": 8
    },
    {
     "cell_type": "heading",
     "level": 3,
     "metadata": {},
     "source": [
      "Thirdly, we performed mirna target and mimic analysis to further explore lncRNA function."
     ]
    },
    {
     "cell_type": "code",
     "collapsed": false,
     "input": [
      "#!qsub -t 4-17 /psc/bioinformatics/sunyd/identify/script/psrobot.mimic.sh /psc/bioinformatics/sunyd/identify/maize_rnaseq/SRRback/mirna/mirna.fa /psc/bioinformatics/sunyd/identify/maize_rnaseq/SRRback/cuff*-CPC_left.lncname.iuox.del.fa /psc/bioinformatics/sunyd/identify/maize_rnaseq/SRRback/mirna                                                                                          "
     ],
     "language": "python",
     "metadata": {},
     "outputs": [],
     "prompt_number": 21
    },
    {
     "cell_type": "code",
     "collapsed": false,
     "input": [
      "#!bash /psc/bioinformatics/sunyd/identify/script/repeat_mirna.sh /psc/bioinformatics/sunyd/identify/maize_rnaseq/SRRback cuff12 maize /psc/bioinformatics/sunyd/genome/zea_mays/zma_mirna_miRbase.fa "
     ],
     "language": "python",
     "metadata": {},
     "outputs": [],
     "prompt_number": 22
    },
    {
     "cell_type": "heading",
     "level": 3,
     "metadata": {},
     "source": [
      "Notice: our partner is responsible for the sample preparation, RNA sequencing and following experimental validation."
     ]
    }
   ],
   "metadata": {}
  }
 ]
}
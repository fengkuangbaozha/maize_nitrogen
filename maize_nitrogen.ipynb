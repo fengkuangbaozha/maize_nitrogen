{
 "cells": [
  {
   "cell_type": "markdown",
   "metadata": {},
   "source": [
    "# RNA-seq analysis reveals nitrogen-starvation affect maize ear kernel development"
   ]
  },
  {
   "cell_type": "markdown",
   "metadata": {},
   "source": [
    "Abstract: Maize ear development is important for maize growth. It was found that the development can be affected by nitrogen-starvation in the field. To study its molecular mechanism, we analyzed RNA-seq data of maize ear in normal and low nitrogen condition in different developmental stages (ear1 and ear2). Through differential expression (DE) analysis with edgeR, over 5,000 genes are found to be differentially expressed under nitrogen treatments in ear2 stage and over 8,000 genes are found to be differentially expressed (DE) between ear1 and ear2 stage under low nitrogen treatment. We annotated these DE genes with TopGO and Mapman and found that these genes are enriched in plant growth and development pathways. Moreover, DE genes specific for one condition is extracted and their involved pathways are explored. Nitrogen cis-acting elements containing genes are also analyzed for functional annotation. Using lncRNA identification pipeline, we identified 7,152 lncRNAs in maize samples. Through lncRNA DE analysis with Cuffdiff, over 500 and 400 lncRNAs are found to be differentially expressed under nitrogen treatments and different developmental stages respectively. This study showed that low nitrogen in maize affects the expression level of genes and lncRNAs related to cell development pathways."
   ]
  },
  {
   "cell_type": "markdown",
   "metadata": {},
   "source": [
    "Pipeline: Fisrtly, we carried out RNA-seq gene differential expression analysis on maize ear datasets under both different developmental stages and nitrogen conditions and we also annotate their involved pathways. Secondly, we identified lncRNAs in maize ear and characterized lncRNAs under both different developmental stages and nitrogen conditions."
   ]
  },
  {
   "cell_type": "markdown",
   "metadata": {},
   "source": [
    "## Part one. Genes differential expression analysis under different nitrogen conditions and different developmental stages."
   ]
  },
  {
   "cell_type": "markdown",
   "metadata": {},
   "source": [
    "### 1. We cleaned the reads with SolexaQA and Cutadapter, mapped reads to the maize genome (AGPv3.28) with tophat, calculated reads counts with htseq-count."
   ]
  },
  {
   "cell_type": "markdown",
   "metadata": {
    "collapsed": false
   },
   "source": [
    "```bash\n",
    "qsub -t 1-3 /psc/bioinformatics/sunyd/lixuexian/script/assemble_pair.sh /psc/bioinformatics/sunyd/genome/zea_mays/zma_AGPv3.28.gtf /psc/bioinformatics/sunyd/genome/zea_mays/zma_AGPv3.28 /psc/bioinformatics/sunyd/lixuexian/data/ 1_CK_\n",
    "qsub -t 1-3 /psc/bioinformatics/sunyd/lixuexian/script/assemble_pair.sh /psc/bioinformatics/sunyd/genome/zea_mays/zma_AGPv3.28.gtf /psc/bioinformatics/sunyd/genome/zea_mays/zma_AGPv3.28 /psc/bioinformatics/sunyd/lixuexian/data/ 1_LN_\n",
    "```"
   ]
  },
  {
   "cell_type": "markdown",
   "metadata": {},
   "source": [
    "<img src=\"https://github.com/fengkuangbaozha/maize_nitrogen/blob/fig/maize_fig1.png?raw=true\" style=\"height: 300px;\" />\n",
    "Figure 1. Pipeline of differentially expressed genes."
   ]
  },
  {
   "cell_type": "markdown",
   "metadata": {},
   "source": [
    "###### Reads statistics."
   ]
  },
  {
   "cell_type": "markdown",
   "metadata": {
    "collapsed": false
   },
   "source": [
    "```sh\n",
    "bash ~/sunyd/lixuexian/script/reads_statistics.sh\n",
    "```"
   ]
  },
  {
   "cell_type": "markdown",
   "metadata": {},
   "source": [
    "### 2. We test replicates quality with PCA and Pairwise analysis."
   ]
  },
  {
   "cell_type": "markdown",
   "metadata": {
    "collapsed": false
   },
   "source": [
    "```sh\n",
    "cd /psc/bioinformatics/sunyd/lixuexian/process\n",
    "Rscript /psc/bioinformatics/sunyd/lixuexian/script/pca_pairwise_3rep.R\n",
    "```"
   ]
  },
  {
   "cell_type": "markdown",
   "metadata": {},
   "source": [
    "<img src=\"https://github.com/fengkuangbaozha/maize_nitrogen/blob/fig/maize_fig2.png?raw=true\" style=\"height: 500px;\" />\n",
    "Figure 2. PCA analysis of RNA-seq samples."
   ]
  },
  {
   "cell_type": "markdown",
   "metadata": {},
   "source": [
    "### 3. We performed differential expression (DE) analysis with edgeR between developmental stages (Ear1,Ear2) and between nitrogen conditions (CK,LN)"
   ]
  },
  {
   "cell_type": "markdown",
   "metadata": {
    "collapsed": false
   },
   "source": [
    "```sh\n",
    "bash ~/sunyd/lixuexian/script/replicate_all_htseq.sh\n",
    "```"
   ]
  },
  {
   "cell_type": "markdown",
   "metadata": {},
   "source": [
    "Condition|Up|Down|Total\n",
    "-----|-----|-----|-----:\n",
    "Ear1_CK:Ear1_LN|1|6|7\n",
    "Ear1_CK:Ear2_CK|80|394|474\n",
    "Ear2_CK:Ear2_LN|2938|2703|5641\n",
    "Ear1_LN:Ear2_LN|3985|4201|8186\n",
    "Table 1. Differentially expressed gene number under each comparison."
   ]
  },
  {
   "cell_type": "markdown",
   "metadata": {},
   "source": [
    "## Part Two. Functional analysis of differentially expressed genes in each comparison."
   ]
  },
  {
   "cell_type": "markdown",
   "metadata": {},
   "source": [
    "### 1. We identified DE genes involved pathways with Mapman."
   ]
  },
  {
   "cell_type": "markdown",
   "metadata": {
    "collapsed": false
   },
   "source": [
    "```sh\n",
    "for i in *.fdr5.txt; do j=`echo $i |sed 's/fdr5/fdr5.mapman/g'`; cut -f1,2 $i |sed '1d' > $j; done    ####only keep name and fold change\n",
    "```"
   ]
  },
  {
   "cell_type": "markdown",
   "metadata": {},
   "source": [
    "<img src=\"https://github.com/fengkuangbaozha/maize_nitrogen/blob/fig/maize_fig3.png?raw=true\" style=\"height: 700px;\" />\n",
    "Figure 3. Ear1_LN:Ear2_LN differentially expressed genes involved pathways."
   ]
  },
  {
   "cell_type": "markdown",
   "metadata": {},
   "source": [
    "### 2. Functional category enrichment of DE genes in Ear1CK:Ear2CK and Ear2CK:Ear2LN."
   ]
  },
  {
   "cell_type": "markdown",
   "metadata": {},
   "source": [
    "```sh\n",
    "bash /psc/home/ydsun/lixuexian/script/de_updown.sh /psc/home/ydsun/lixuexian/process\n",
    "bash /psc/home/ydsun/lixuexian/script/category_enrich.sh /psc/home/ydsun/lixuexian/process/topgo\n",
    "bash /psc/home/ydsun/lixuexian/script/category_detail.sh /psc/home/ydsun/lixuexian/process/topgo\n",
    "```"
   ]
  },
  {
   "cell_type": "markdown",
   "metadata": {},
   "source": [
    "<img src=\"https://github.com/fengkuangbaozha/maize_nitrogen/blob/fig/maize_fig3_2.png?raw=true\" style=\"width: 800px;\" />\n",
    "Figure 4. Functional category enrichment of Ear1_CK:Ear2_CK and Ear2_CK:Ear2_LN comparison."
   ]
  },
  {
   "cell_type": "markdown",
   "metadata": {},
   "source": [
    "### 3. Ear1LN:Ear2LN specificially expressed genes identification."
   ]
  },
  {
   "cell_type": "markdown",
   "metadata": {
    "collapsed": false
   },
   "source": [
    "```sh\n",
    "bash /psc/home/ydsun/lixuexian/script/lnspecific_updown.sh /psc/home/ydsun/lixuexian/process\n",
    "```"
   ]
  },
  {
   "cell_type": "markdown",
   "metadata": {},
   "source": [
    "<img src=\"https://github.com/fengkuangbaozha/maize_nitrogen/blob/fig/maize_fig4.png?raw=true\" style=\"width: 800px;\" />\n",
    "Figure 5.  Ear1LN:Ear2LN specificially expressed genes identification."
   ]
  },
  {
   "cell_type": "markdown",
   "metadata": {},
   "source": [
    "### 3. Functional catergory enrichment of Ear1LN:Ear2LN specificially expressed genes."
   ]
  },
  {
   "cell_type": "markdown",
   "metadata": {
    "collapsed": false
   },
   "source": [
    "```sh\n",
    "bash /psc/home/ydsun/lixuexian/script/category_enrich.sh /psc/home/ydsun/lixuexian/process/lnspecific _lnspecific\n",
    "bash /psc/home/ydsun/lixuexian/script/category_detail_specific.sh /psc/home/ydsun/lixuexian/process/lnspecific ear1LN:ear2LN _lnspecific 1-2,6-8,12-14\n",
    "```"
   ]
  },
  {
   "cell_type": "markdown",
   "metadata": {},
   "source": [
    "<img src=\"https://github.com/fengkuangbaozha/maize_nitrogen/blob/fig/maize_fig6.png?raw=true\" style=\"width: 800px;\" />\n",
    "Figure 6. Functional category enrichment of Ear1LN:Ear2LN specificially expressed genes identification."
   ]
  },
  {
   "cell_type": "markdown",
   "metadata": {},
   "source": [
    "### 4. GO enrichment analysis of Ear1LN:Ear2LN specificially expressed genes with topgo package."
   ]
  },
  {
   "cell_type": "markdown",
   "metadata": {
    "collapsed": false
   },
   "source": [
    "```sh\n",
    "bash /psc/bioinformatics/sunyd/lixuexian/script/topgo.sh /psc/bioinformatics/sunyd/lixuexian/process\n",
    "```"
   ]
  },
  {
   "cell_type": "markdown",
   "metadata": {},
   "source": [
    "<img src=\"https://github.com/fengkuangbaozha/maize_nitrogen/blob/fig/maize_fig5.png?raw=true\" style=\"width: 500px;\" />\n",
    "Figure 7.  GO enrichment of Ear1LN:Ear2LN specificially expressed genes."
   ]
  },
  {
   "cell_type": "markdown",
   "metadata": {},
   "source": [
    "## Part Three. Functional analysis of nitrate-inducible genes"
   ]
  },
  {
   "cell_type": "markdown",
   "metadata": {},
   "source": [
    "### 1. we identified NRE cis-acting elements containing genes."
   ]
  },
  {
   "cell_type": "markdown",
   "metadata": {
    "collapsed": false
   },
   "source": [
    "```sh\n",
    "fastaFromBed -s -name -fi /psc/home/ydsun/genome/zea_mays/zma_AGPv3.28.fa -bed /psc/home/ydsun/genome/zea_mays/Zea_mays.upstream.gene.bed -fo zma_AGPv3.28.mrna.upstream2k\n",
    "tr '\\n' '\\t' < /psc/home/ydsun/genome/zea_mays/zma_AGPv3.28.mrna.upstream2k.fa |sed 's/\\t>/\\n/g' > /psc/home/ydsun/genome/zea_mays/zma_AGPv3.28.mrna.upstream2k.tab\n",
    "bash /psc/home/ydsun/lixuexian/script/nre_updown.sh /psc/home/ydsun/lixuexian/process\n",
    "```"
   ]
  },
  {
   "cell_type": "markdown",
   "metadata": {
    "collapsed": false
   },
   "source": [
    "### 2. Functional category enrichment of nitrate-inducible genes."
   ]
  },
  {
   "cell_type": "markdown",
   "metadata": {
    "collapsed": false
   },
   "source": [
    "```sh\n",
    "bash /psc/home/ydsun/lixuexian/script/category_enrich.sh /psc/home/ydsun/lixuexian/process/nre _nre\n",
    "bash /psc/home/ydsun/lixuexian/script/category_detail_specific.sh /psc/home/ydsun/lixuexian/process/nre all _nre 1-14\n",
    "```"
   ]
  },
  {
   "cell_type": "markdown",
   "metadata": {},
   "source": [
    "<img src=\"https://github.com/fengkuangbaozha/maize_nitrogen/blob/fig/maize_fig7.png?raw=true\" style=\"width: 800px;\" />\n",
    "Figure 8.  Functional category enrichment of nitrate-inducible genes."
   ]
  },
  {
   "cell_type": "markdown",
   "metadata": {},
   "source": [
    "## Part Four. lncRNA identification and  characterization in maize under both different developmental stages and nitrogen treatments."
   ]
  },
  {
   "cell_type": "markdown",
   "metadata": {},
   "source": [
    "### 1. We identified lncRNAs in maize with the pipeline of TPLA."
   ]
  },
  {
   "cell_type": "markdown",
   "metadata": {
    "collapsed": false
   },
   "source": [
    "```sh\n",
    "bash /psc/home/ydsun/identify/script/lncrna_prepare.sh /psc/home/ydsun/lixuexian/lncRNA/assemble_gtf_listall.txt /psc/home/ydsun/genome/zea_mays/zma_AGPv3.28.gtf /psc/home/ydsun/genome/zea_mays/zma_AGPv3.28.fa /psc/home/ydsun/lixuexian/lncRNA 12\n",
    "qsub -t 1-23 /psc/home/ydsun/identify/script/lncrnaml_qsuball_newtrain.sh /psc/home/ydsun/lixuexian/lncRNA\n",
    "bash /psc/home/ydsun/identify/script/lncrna_handle_rfmodel_pi.sh /psc/home/ydsun/lixuexian/lncRNA cuff12 /psc/home/ydsun/genome/zea_mays/zma_tRNA_GtRNAdb.bed\n",
    "bash /psc/bioinformatics/sunyd/identify/script/expression_gtf.sh cuff12 /psc/bioinformatics/sunyd/lixuexian/lncRNA /psc/bioinformatics/sunyd/genome/zea_mays/zma_AGPv3.28\n",
    "```"
   ]
  },
  {
   "cell_type": "markdown",
   "metadata": {},
   "source": [
    "### 2. We performed lncRNA differentially expression analysis with cuffdiff and cummerRbund."
   ]
  },
  {
   "cell_type": "markdown",
   "metadata": {
    "collapsed": false
   },
   "source": [
    "```sh\n",
    "bash ~/sunyd/lixuexian/script/lncrna_cuffdiff.sh\n",
    "```"
   ]
  },
  {
   "cell_type": "markdown",
   "metadata": {},
   "source": [
    "### 3. We performed mirna target and mimic analysis to further explore lncRNA function."
   ]
  },
  {
   "cell_type": "markdown",
   "metadata": {
    "collapsed": false
   },
   "source": [
    "```sh\n",
    "qsub -t 4-17 /psc/bioinformatics/sunyd/identify/script/psrobot.mimic.sh /psc/bioinformatics/sunyd/identify/maize_rnaseq/SRRback/mirna/mirna.fa /psc/bioinformatics/sunyd/identify/maize_rnaseq/SRRback/cuff*-CPC_left.lncname.iuox.del.fa /psc/bioinformatics/sunyd/identify/maize_rnaseq/SRRback/mirna\n",
    "bash /psc/bioinformatics/sunyd/identify/script/repeat_mirna.sh /psc/bioinformatics/sunyd/identify/maize_rnaseq/SRRback cuff12 maize /psc/bioinformatics/sunyd/genome/zea_mays/zma_mirna_miRbase.fa \n",
    "```"
   ]
  },
  {
   "cell_type": "markdown",
   "metadata": {},
   "source": [
    "### Notice: our partner is responsible for the sample preparation, RNA sequencing and following experimental validation."
   ]
  }
 ],
 "metadata": {
  "kernelspec": {
   "display_name": "Python 2",
   "language": "python",
   "name": "python2"
  },
  "language_info": {
   "codemirror_mode": {
    "name": "ipython",
    "version": 2
   },
   "file_extension": ".py",
   "mimetype": "text/x-python",
   "name": "python",
   "nbconvert_exporter": "python",
   "pygments_lexer": "ipython2",
   "version": "2.7.11"
  }
 },
 "nbformat": 4,
 "nbformat_minor": 0
}

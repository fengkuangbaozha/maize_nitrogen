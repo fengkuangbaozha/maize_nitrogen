{
 "metadata": {
  "name": "",
  "signature": "sha256:7bd3e642397d461aa0237c7d676c235f49f4fe78cd14c7a32bfbe8aa6e96074f"
 },
 "nbformat": 3,
 "nbformat_minor": 0,
 "worksheets": [
  {
   "cells": [
    {
     "cell_type": "heading",
     "level": 1,
     "metadata": {},
     "source": [
      "Analysis of maize RNA-seq under different nitrogen conditions and different developmental stages"
     ]
    },
    {
     "cell_type": "heading",
     "level": 5,
     "metadata": {},
     "source": [
      "To explore nitrogen effects on maize ear development, we compared gene and lncRNA expression under different developmental stages and nitrogen conditions. Fisrtly, we collected ear1 and ear2 sample in different maize developmental stage. Secondly, for each stage, we treated samples with normal nitrogen and low nitrogen conditions. Thirdly, we sequenced samples in different developmental stages with different conditions. Forthly, we carried out RNA-seq gene differential expression analysis on these datasets. Fifthly, we identified and characterized lncRNAs in maize."
     ]
    },
    {
     "cell_type": "heading",
     "level": 2,
     "metadata": {},
     "source": [
      "Part one. We identified differentially expressed genes under different nitrogen conditions and different developmental stages."
     ]
    },
    {
     "cell_type": "heading",
     "level": 3,
     "metadata": {},
     "source": [
      "Firstly, we cleaned the reads with SolexaQA and Cutadapter, mapped reads to the maize genome (AGPv3.28) with tophat, calculated reads counts with htseq-count."
     ]
    },
    {
     "cell_type": "code",
     "collapsed": false,
     "input": [
      "#!qsub -t 1-3 /psc/bioinformatics/sunyd/lixuexian/script/assemble_pair.sh /psc/bioinformatics/sunyd/genome/zea_mays/zma_AGPv3.28.gtf /psc/bioinformatics/sunyd/genome/zea_mays/zma_AGPv3.28 /psc/bioinformatics/sunyd/lixuexian/data/ 1_CK_\n",
      "#!qsub -t 1-3 /psc/bioinformatics/sunyd/lixuexian/script/assemble_pair.sh /psc/bioinformatics/sunyd/genome/zea_mays/zma_AGPv3.28.gtf /psc/bioinformatics/sunyd/genome/zea_mays/zma_AGPv3.28 /psc/bioinformatics/sunyd/lixuexian/data/ 2_CK_\n",
      "#!qsub -t 1-3 /psc/bioinformatics/sunyd/lixuexian/script/assemble_pair.sh /psc/bioinformatics/sunyd/genome/zea_mays/zma_AGPv3.28.gtf /psc/bioinformatics/sunyd/genome/zea_mays/zma_AGPv3.28 /psc/bioinformatics/sunyd/lixuexian/data/ 1_LN_\n",
      "#!qsub -t 1-3 /psc/bioinformatics/sunyd/lixuexian/script/assemble_pair.sh /psc/bioinformatics/sunyd/genome/zea_mays/zma_AGPv3.28.gtf /psc/bioinformatics/sunyd/genome/zea_mays/zma_AGPv3.28 /psc/bioinformatics/sunyd/lixuexian/data/ 2_LN_"
     ],
     "language": "python",
     "metadata": {},
     "outputs": [],
     "prompt_number": 1
    },
    {
     "cell_type": "heading",
     "level": 6,
     "metadata": {},
     "source": [
      "Reads statistics"
     ]
    },
    {
     "cell_type": "code",
     "collapsed": false,
     "input": [
      "#!bash ~/sunyd/lixuexian/script/reads_statistics.sh"
     ],
     "language": "python",
     "metadata": {},
     "outputs": [],
     "prompt_number": 2
    },
    {
     "cell_type": "heading",
     "level": 3,
     "metadata": {},
     "source": [
      "Secondly, we performed differential expression (DE) analysis with edgeR."
     ]
    },
    {
     "cell_type": "heading",
     "level": 4,
     "metadata": {},
     "source": [
      "1. Checked the quality of replicates with PCA analysis and identified differentially expressed genes both between developmental stages and between nitrogen conditions with edgeR package."
     ]
    },
    {
     "cell_type": "code",
     "collapsed": false,
     "input": [
      "#!bash ~/sunyd/lixuexian/script/replicate_all_htseq.sh"
     ],
     "language": "python",
     "metadata": {},
     "outputs": [],
     "prompt_number": 3
    },
    {
     "cell_type": "heading",
     "level": 4,
     "metadata": {},
     "source": [
      "2. Since one replicate is not good in ear1, so we also analyzed with 2 replicates"
     ]
    },
    {
     "cell_type": "code",
     "collapsed": false,
     "input": [
      "#!bash ~/sunyd/lixuexian/script/replicate_select_htseq.sh"
     ],
     "language": "python",
     "metadata": {},
     "outputs": [],
     "prompt_number": 4
    },
    {
     "cell_type": "heading",
     "level": 3,
     "metadata": {},
     "source": [
      "Thirdly, we performed GO annotation analysis with topgo package to identify function of DE genes"
     ]
    },
    {
     "cell_type": "code",
     "collapsed": false,
     "input": [
      "#!for i in *.fdr5.txt; do j=`echo $i |cut -d \".\" -f1`; cut -f1,2 $i |sed '1d' |grep \"-\" |cut -f1 > topgo/topgo.${j}_down.txt; cut -f1,2 $i |sed '1d' |grep -v \"-\" |cut -f1 > topgo/topgo.${j}_up.txt; done\n",
      "#!for i in topgo/topgo.*; do /psc/program/install/R-3.1.1/bin/Rscript ~/sunyd/lixuexian/script/topgo.R $i 0.01; done"
     ],
     "language": "python",
     "metadata": {},
     "outputs": [],
     "prompt_number": 5
    },
    {
     "cell_type": "heading",
     "level": 3,
     "metadata": {},
     "source": [
      "Forthly, we identified pathways that DE genes involved with mapman"
     ]
    },
    {
     "cell_type": "code",
     "collapsed": false,
     "input": [
      "#!for i in *.fdr5.txt; do j=`echo $i |sed 's/fdr5/fdr5.mapman/g'`; cut -f1,2 $i |sed '1d' > $j; done    ####only keep name and fold change"
     ],
     "language": "python",
     "metadata": {},
     "outputs": [],
     "prompt_number": 6
    },
    {
     "cell_type": "heading",
     "level": 2,
     "metadata": {},
     "source": [
      "Part two. We identified lncRNAs in maize and found differentially expressed lncRNAs both between developmental stages and between nitrogen conditions."
     ]
    },
    {
     "cell_type": "heading",
     "level": 3,
     "metadata": {},
     "source": [
      "Firstly, we identified lncRNAs in maize with the pipeline of TPLA"
     ]
    },
    {
     "cell_type": "code",
     "collapsed": false,
     "input": [
      "#!cd ~/sunyd/lixuexian/lncRNA\n",
      "#!ls /psc/bioinformatics/sunyd/lixuexian/data/*/*/accepted_hits.bam > cuffnorm_sample_sheet_3rep.txt\n",
      "#!ls /psc/bioinformatics/sunyd/lixuexian/data/*/*/transcripts.gtf > /psc/bioinformatics/sunyd/lixuexian/lncRNA/assemble_gtf_listall.txt\n",
      "#!bash ~/sunyd/identify/script/lncrna_prepare.sh /psc/bioinformatics/sunyd/lixuexian/lncRNA/assemble_gtf_listall.txt /psc/bioinformatics/sunyd/genome/zea_mays/zma_AGPv3.28.gtf /psc/bioinformatics/sunyd/genome/zea_mays/zma_AGPv3.28.fa ~/sunyd/lixuexian/lncRNA 12\n",
      "#!for i in /psc/bioinformatics/sunyd/lixuexian/lncRNA/cuff*.comscriptedhq.name.fa; do j=`echo $i |cut -d \"/\" -f1-7`; split -d -a 2 -l 2000 $i $j/split_cuff/cuff; cd $j/split_cuff; rename '0' '' cuff0*; done\n",
      "#!qsub -t 1-23 ~/sunyd/identify/lncrnaml_qsuball_newtrain.sh /psc/bioinformatics/sunyd/lixuexian/lncRNA\n",
      "#!bash ~/sunyd/identify/script/lncrna_handle_rfmodel.sh ~/sunyd/lixuexian/lncRNA cuff12 /psc/bioinformatics/sunyd/genome/zea_mays/zma_tRNA_GtRNAdb.bed\n",
      "#!bash /psc/bioinformatics/sunyd/identify/script/expression_gtf.sh cuff12 /psc/bioinformatics/sunyd/lixuexian/lncRNA /psc/bioinformatics/sunyd/genome/zea_mays/zma_AGPv3.28"
     ],
     "language": "python",
     "metadata": {},
     "outputs": [],
     "prompt_number": 7
    },
    {
     "cell_type": "heading",
     "level": 3,
     "metadata": {},
     "source": [
      "Secondly, we performed lncRNA differentially expression analysis with cuffdiff and cummerRbund"
     ]
    },
    {
     "cell_type": "code",
     "collapsed": false,
     "input": [
      "#!bash ~/sunyd/lixuexian/script/lncrna_cuffdiff.sh"
     ],
     "language": "python",
     "metadata": {},
     "outputs": [],
     "prompt_number": 8
    },
    {
     "cell_type": "heading",
     "level": 3,
     "metadata": {},
     "source": [
      "Thirdly, we performed mirna target and mimic analysis to further explore lncRNA function"
     ]
    },
    {
     "cell_type": "code",
     "collapsed": false,
     "input": [
      "#!qsub -t 4-17 /psc/bioinformatics/sunyd/identify/script/psrobot.mimic.sh /psc/bioinformatics/sunyd/identify/maize_rnaseq/SRRback/mirna/mirna.fa /psc/bioinformatics/sunyd/identify/maize_rnaseq/SRRback/cuff*-CPC_left.lncname.iuox.del.fa /psc/bioinformatics/sunyd/identify/maize_rnaseq/SRRback/mirna                                                                                          \n",
      "#!bash /psc/bioinformatics/sunyd/identify/script/repeat_mirna.sh /psc/bioinformatics/sunyd/identify/maize_rnaseq/SRRback cuff12 maize /psc/bioinformatics/sunyd/genome/zea_mays/zma_mirna_miRbase.fa "
     ],
     "language": "python",
     "metadata": {},
     "outputs": [],
     "prompt_number": 9
    }
   ],
   "metadata": {}
  }
 ]
}